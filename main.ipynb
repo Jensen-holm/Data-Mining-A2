{
 "cells": [
  {
   "attachments": {},
   "cell_type": "markdown",
   "metadata": {},
   "source": [
    "## CIS 335 Assignment 2"
   ]
  },
  {
   "attachments": {},
   "cell_type": "markdown",
   "metadata": {},
   "source": [
    "Jensen Holm <br>\n",
    "Feb. 26th 2023"
   ]
  },
  {
   "cell_type": "code",
   "execution_count": 9,
   "metadata": {
    "collapsed": true
   },
   "outputs": [],
   "source": [
    "import pandas as pd\n",
    "from dataclasses import dataclass\n",
    "from sklearn.tree import DecisionTreeClassifier\n",
    "from sklearn.preprocessing import StandardScaler, MinMaxScaler\n",
    "from sklearn.pipeline import make_pipeline\n",
    "from sklearn.metrics import (\n",
    "    accuracy_score,\n",
    "    confusion_matrix,\n",
    "    classification_report,\n",
    ")"
   ]
  },
  {
   "cell_type": "code",
   "execution_count": 12,
   "metadata": {},
   "outputs": [],
   "source": [
    "train = pd.read_csv(\"data/train.csv\")\n",
    "test = pd.read_csv(\"data/test.csv\")\n",
    "\n",
    "train = train.drop(\"Unnamed: 32\", axis=1)\n",
    "test = test.drop(\"Unnamed: 32\", axis=1)\n",
    "\n",
    "train[\"diagnosis\"] = train[\"diagnosis\"].dropna()\n",
    "test[\"diagnosis\"]= train[\"diagnosis\"].dropna()\n",
    "\n",
    "X_train = train[[col for col in train.columns if col != \"diagnosis\"]]\n",
    "Y_train = train[\"diagnosis\"]\n",
    "\n",
    "X_test = test[[col for col in train.columns if col != \"diagnosis\"]]\n",
    "Y_test = test[\"diagnosis\"]"
   ]
  },
  {
   "attachments": {},
   "cell_type": "markdown",
   "metadata": {},
   "source": [
    "## Model Expiramentation"
   ]
  },
  {
   "cell_type": "code",
   "execution_count": 23,
   "metadata": {},
   "outputs": [],
   "source": [
    "\n",
    "\n",
    "@dataclass\n",
    "class ClassifierTree:\n",
    "    X_train: pd.DataFrame\n",
    "    Y_train: pd.DataFrame\n",
    "    X_test: pd.DataFrame\n",
    "    Y_test: pd.DataFrame\n",
    "\n",
    "    @property\n",
    "    def x_train(self) -> pd.DataFrame:\n",
    "        return self.X_train\n",
    "\n",
    "    @property\n",
    "    def y_train(self) -> pd.DataFrame:\n",
    "        return self.Y_train\n",
    "    \n",
    "    @property\n",
    "    def x_test(self) -> pd.DataFrame:\n",
    "        return self.X_test\n",
    "    \n",
    "    @property\n",
    "    def y_test(self) -> pd.DataFrame:\n",
    "        return self.Y_test\n",
    "\n",
    "    @staticmethod\n",
    "    def norms(norm_type, depth=5):\n",
    "        n = {\n",
    "            \"z-score\": make_pipeline(\n",
    "                StandardScaler(),\n",
    "                DecisionTreeClassifier(max_depth=depth),\n",
    "            ),\n",
    "            \"minmax\": make_pipeline(\n",
    "                MinMaxScaler(),\n",
    "                DecisionTreeClassifier(max_depth=depth)\n",
    "            )\n",
    "        }\n",
    "        try:\n",
    "            return n[norm_type]\n",
    "        except KeyError:\n",
    "            raise KeyError(f\"no such normalization type of '{norm_type}'\")\n",
    "\n",
    "\n",
    "    def fit(self, norm_type=None, depth=5):\n",
    "        if norm_type:\n",
    "            dt = self.norms(\n",
    "                norm_type=norm_type, depth=depth)\n",
    "        else:\n",
    "            dt = DecisionTreeClassifier(max_depth=depth)\n",
    "\n",
    "        dt.fit(self.x_train, self.y_train)\n",
    "        pred = dt.predict(self.x_test)\n",
    "        return accuracy_score(\n",
    "            y_pred=pred,\n",
    "            y_true=self.y_test,\n",
    "        )\n",
    "\n"
   ]
  },
  {
   "cell_type": "code",
   "execution_count": 24,
   "metadata": {},
   "outputs": [],
   "source": [
    "tree = ClassifierTree(\n",
    "    X_train=X_train,\n",
    "    Y_train=Y_train,\n",
    "    X_test=X_test,\n",
    "    Y_test=Y_test,\n",
    ")"
   ]
  },
  {
   "attachments": {},
   "cell_type": "markdown",
   "metadata": {},
   "source": [
    "#### No Preprocessing"
   ]
  },
  {
   "cell_type": "code",
   "execution_count": 26,
   "metadata": {},
   "outputs": [
    {
     "data": {
      "text/plain": [
       "0.4083333333333333"
      ]
     },
     "execution_count": 26,
     "metadata": {},
     "output_type": "execute_result"
    }
   ],
   "source": [
    "no_5 = tree.fit()\n",
    "no_6 = tree.fit(depth=6)\n",
    "\n",
    "no_6"
   ]
  },
  {
   "attachments": {},
   "cell_type": "markdown",
   "metadata": {},
   "source": [
    "#### Z-Score Normalization"
   ]
  },
  {
   "cell_type": "code",
   "execution_count": null,
   "metadata": {},
   "outputs": [],
   "source": []
  },
  {
   "attachments": {},
   "cell_type": "markdown",
   "metadata": {},
   "source": [
    "#### MinMax Normalization"
   ]
  },
  {
   "cell_type": "code",
   "execution_count": null,
   "metadata": {},
   "outputs": [],
   "source": []
  },
  {
   "cell_type": "code",
   "execution_count": null,
   "metadata": {},
   "outputs": [],
   "source": []
  }
 ],
 "metadata": {
  "kernelspec": {
   "display_name": "Python 3",
   "language": "python",
   "name": "python3"
  },
  "language_info": {
   "codemirror_mode": {
    "name": "ipython",
    "version": 3
   },
   "file_extension": ".py",
   "mimetype": "text/x-python",
   "name": "python",
   "nbconvert_exporter": "python",
   "pygments_lexer": "ipython3",
   "version": "3.10.9"
  },
  "vscode": {
   "interpreter": {
    "hash": "b0fa6594d8f4cbf19f97940f81e996739fb7646882a419484c72d19e05852a7e"
   }
  }
 },
 "nbformat": 4,
 "nbformat_minor": 0
}
