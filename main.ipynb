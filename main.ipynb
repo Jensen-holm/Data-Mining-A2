{
 "cells": [
  {
   "attachments": {},
   "cell_type": "markdown",
   "metadata": {},
   "source": [
    "## CIS 335 Assignment 2"
   ]
  },
  {
   "attachments": {},
   "cell_type": "markdown",
   "metadata": {},
   "source": [
    "Jensen Holm <br>\n",
    "Feb. 26th 2023"
   ]
  },
  {
   "cell_type": "code",
   "execution_count": 28,
   "metadata": {
    "collapsed": true
   },
   "outputs": [],
   "source": [
    "import pandas as pd\n",
    "from dataclasses import dataclass\n",
    "from sklearn.tree import DecisionTreeClassifier\n",
    "from sklearn.preprocessing import StandardScaler, MinMaxScaler\n",
    "from sklearn.pipeline import make_pipeline\n",
    "from sklearn.metrics import accuracy_score"
   ]
  },
  {
   "attachments": {},
   "cell_type": "markdown",
   "metadata": {},
   "source": [
    "### Cleaning"
   ]
  },
  {
   "cell_type": "code",
   "execution_count": 29,
   "metadata": {},
   "outputs": [],
   "source": [
    "train = pd.read_csv(\"data/train.csv\")\n",
    "test = pd.read_csv(\"data/test.csv\")\n",
    "\n",
    "train = train.drop(\"Unnamed: 32\", axis=1)\n",
    "test = test.drop(\"Unnamed: 32\", axis=1)\n",
    "\n",
    "train[\"diagnosis\"] = train[\"diagnosis\"].dropna()\n",
    "test[\"diagnosis\"]= train[\"diagnosis\"].dropna()\n",
    "\n",
    "X_train = train[[col for col in train.columns if col != \"diagnosis\"]]\n",
    "Y_train = train[\"diagnosis\"]\n",
    "\n",
    "X_test = test[[col for col in train.columns if col != \"diagnosis\"]]\n",
    "Y_test = test[\"diagnosis\"]"
   ]
  },
  {
   "attachments": {},
   "cell_type": "markdown",
   "metadata": {},
   "source": [
    "## Model Expiramentation"
   ]
  },
  {
   "cell_type": "code",
   "execution_count": 65,
   "metadata": {},
   "outputs": [],
   "source": [
    "\n",
    "@dataclass\n",
    "class ClassifierTree:\n",
    "    X_train: pd.DataFrame\n",
    "    Y_train: pd.DataFrame\n",
    "    X_test: pd.DataFrame\n",
    "    Y_test: pd.DataFrame\n",
    "\n",
    "    @property\n",
    "    def x_train(self) -> pd.DataFrame:\n",
    "        return self.X_train\n",
    "\n",
    "    @property\n",
    "    def y_train(self) -> pd.DataFrame:\n",
    "        return self.Y_train\n",
    "    \n",
    "    @property\n",
    "    def x_test(self) -> pd.DataFrame:\n",
    "        return self.X_test\n",
    "    \n",
    "    @property\n",
    "    def y_test(self) -> pd.DataFrame:\n",
    "        return self.Y_test\n",
    "\n",
    "    @staticmethod\n",
    "    def norms(norm_type, depth=5, splitter=\"best\"):\n",
    "        n = {\n",
    "            \"z-score\": make_pipeline(\n",
    "                StandardScaler(),\n",
    "                DecisionTreeClassifier(max_depth=depth, splitter=splitter),\n",
    "            ),\n",
    "            \"minmax\": make_pipeline(\n",
    "                MinMaxScaler(),\n",
    "                DecisionTreeClassifier(max_depth=depth, splitter=splitter)\n",
    "            )\n",
    "        }\n",
    "        try:\n",
    "            return n[norm_type]\n",
    "        except KeyError:\n",
    "            raise KeyError(f\"no such normalization type of '{norm_type}'\")\n",
    "\n",
    "\n",
    "    def fit(self, norm_type=None, depth=5, splitter=\"best\"):\n",
    "        if norm_type:\n",
    "            dt = self.norms(norm_type=norm_type, depth=depth, splitter=splitter)\n",
    "        else:\n",
    "            dt = DecisionTreeClassifier(max_depth=depth, splitter=splitter)\n",
    "\n",
    "        dt.fit(self.x_train, self.y_train)\n",
    "        pred = dt.predict(self.x_test)\n",
    "        score = accuracy_score(\n",
    "            y_pred=pred,\n",
    "            y_true=self.y_test,\n",
    "        )\n",
    "\n",
    "        return f\"depth = {depth}, splitter = {splitter}, normalizaion = {norm_type}, Accuracy: {score*100:.3f}\"\n"
   ]
  },
  {
   "attachments": {},
   "cell_type": "markdown",
   "metadata": {},
   "source": [
    "### Expiramentation"
   ]
  },
  {
   "cell_type": "code",
   "execution_count": 66,
   "metadata": {},
   "outputs": [],
   "source": [
    "tree = ClassifierTree(\n",
    "    X_train=X_train,\n",
    "    Y_train=Y_train,\n",
    "    X_test=X_test,\n",
    "    Y_test=Y_test,\n",
    ")"
   ]
  },
  {
   "cell_type": "code",
   "execution_count": 76,
   "metadata": {},
   "outputs": [
    {
     "name": "stdout",
     "output_type": "stream",
     "text": [
      "depth = 5, splitter = best, normalizaion = None, Accuracy: 39.167\n",
      "depth = 5, splitter = random, normalizaion = None, Accuracy: 41.667\n",
      "depth = 50, splitter = best, normalizaion = z-score, Accuracy: 40.000\n",
      "depth = 20, splitter = best, normalizaion = z-score, Accuracy: 39.167\n",
      "depth = 20, splitter = best, normalizaion = minmax, Accuracy: 41.667\n"
     ]
    }
   ],
   "source": [
    "# no pre processing\n",
    "no_5 = tree.fit(depth=5)\n",
    "no_6 = tree.fit(depth=5, splitter=\"random\")\n",
    "print(no_5)\n",
    "print(no_6)\n",
    "\n",
    "# z score normalization\n",
    "z_5 = tree.fit(depth=50, norm_type=\"z-score\")\n",
    "z_5_r = tree.fit(norm_type=\"z-score\", depth=20)\n",
    "print(z_5)\n",
    "print(z_5_r)\n",
    "\n",
    "# minmax normalization\n",
    "m_5 = tree.fit(depth=20, norm_type=\"minmax\")\n",
    "print(m_5)"
   ]
  },
  {
   "cell_type": "code",
   "execution_count": null,
   "metadata": {},
   "outputs": [],
   "source": []
  },
  {
   "cell_type": "code",
   "execution_count": null,
   "metadata": {},
   "outputs": [],
   "source": []
  }
 ],
 "metadata": {
  "kernelspec": {
   "display_name": "Python 3",
   "language": "python",
   "name": "python3"
  },
  "language_info": {
   "codemirror_mode": {
    "name": "ipython",
    "version": 3
   },
   "file_extension": ".py",
   "mimetype": "text/x-python",
   "name": "python",
   "nbconvert_exporter": "python",
   "pygments_lexer": "ipython3",
   "version": "3.10.9"
  },
  "vscode": {
   "interpreter": {
    "hash": "b0fa6594d8f4cbf19f97940f81e996739fb7646882a419484c72d19e05852a7e"
   }
  }
 },
 "nbformat": 4,
 "nbformat_minor": 0
}
